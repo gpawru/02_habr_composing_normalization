{
 "cells": [
  {
   "cell_type": "code",
   "execution_count": 2,
   "metadata": {},
   "outputs": [],
   "source": [
    "import unicodedata as ud"
   ]
  },
  {
   "cell_type": "code",
   "execution_count": 14,
   "metadata": {},
   "outputs": [
    {
     "name": "stdout",
     "output_type": "stream",
     "text": [
      "['0x644', '0x627', '0x655', '0x654']\n"
     ]
    }
   ],
   "source": [
    "a = \"\\uFEF7\\u0655\"\n",
    "b = ud.normalize('NFKD', a)\n",
    "\n",
    "hex_codes = [hex(ord(char)) for char in b]\n",
    "print(hex_codes)\n"
   ]
  },
  {
   "cell_type": "code",
   "execution_count": 15,
   "metadata": {},
   "outputs": [
    {
     "name": "stdout",
     "output_type": "stream",
     "text": [
      "['0x644', '0x625', '0x654']\n"
     ]
    }
   ],
   "source": [
    "b = ud.normalize('NFKC', a)\n",
    "\n",
    "hex_codes = [hex(ord(char)) for char in b]\n",
    "print(hex_codes)"
   ]
  }
 ],
 "metadata": {
  "kernelspec": {
   "display_name": "Python 3",
   "language": "python",
   "name": "python3"
  },
  "language_info": {
   "codemirror_mode": {
    "name": "ipython",
    "version": 3
   },
   "file_extension": ".py",
   "mimetype": "text/x-python",
   "name": "python",
   "nbconvert_exporter": "python",
   "pygments_lexer": "ipython3",
   "version": "3.10.12"
  }
 },
 "nbformat": 4,
 "nbformat_minor": 2
}
